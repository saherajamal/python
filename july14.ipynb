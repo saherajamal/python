{
 "cells": [
  {
   "cell_type": "code",
   "execution_count": 25,
   "id": "7f33f71f-9346-4523-895e-9345b08b729f",
   "metadata": {},
   "outputs": [
    {
     "name": "stdout",
     "output_type": "stream",
     "text": [
      "['mom', 'dad', 'bak', 'sir', 'ria', 'sah', 'cho']\n"
     ]
    }
   ],
   "source": [
    "family = ['mom','dad','bak','sir','ria','sah','cho']\n",
    "\n",
    "print(family)"
   ]
  },
  {
   "cell_type": "code",
   "execution_count": 7,
   "id": "0d1fbdc2-9e7c-4615-b9d8-69be4528c37e",
   "metadata": {},
   "outputs": [
    {
     "ename": "AttributeError",
     "evalue": "'list' object has no attribute 'upper'",
     "output_type": "error",
     "traceback": [
      "\u001b[1;31m---------------------------------------------------------------------------\u001b[0m",
      "\u001b[1;31mAttributeError\u001b[0m                            Traceback (most recent call last)",
      "Cell \u001b[1;32mIn[7], line 1\u001b[0m\n\u001b[1;32m----> 1\u001b[0m \u001b[38;5;28mprint\u001b[39m(family\u001b[38;5;241m.\u001b[39mupper())\n",
      "\u001b[1;31mAttributeError\u001b[0m: 'list' object has no attribute 'upper'"
     ]
    }
   ],
   "source": [
    "print(family.upper())"
   ]
  },
  {
   "cell_type": "code",
   "execution_count": 9,
   "id": "827f0d5b-9f85-4594-b959-31ac8c45ccf8",
   "metadata": {},
   "outputs": [
    {
     "name": "stdout",
     "output_type": "stream",
     "text": [
      "Bak\n"
     ]
    }
   ],
   "source": [
    "print(family[2].title())"
   ]
  },
  {
   "cell_type": "raw",
   "id": "eb945598-2347-4da4-b595-e33ba8290e3a",
   "metadata": {},
   "source": [
    "print(family[4].title())"
   ]
  },
  {
   "cell_type": "code",
   "execution_count": 11,
   "id": "02d6194a-e9a1-4b20-b7c0-c7875d547c7a",
   "metadata": {},
   "outputs": [
    {
     "name": "stdout",
     "output_type": "stream",
     "text": [
      "Sah\n"
     ]
    }
   ],
   "source": [
    "print(family[5].title())"
   ]
  },
  {
   "cell_type": "code",
   "execution_count": 13,
   "id": "5076539c-f3e5-4eb7-961b-60ba3b2850bf",
   "metadata": {},
   "outputs": [
    {
     "name": "stdout",
     "output_type": "stream",
     "text": [
      "SAH\n"
     ]
    }
   ],
   "source": [
    "print(family[5].upper())"
   ]
  },
  {
   "cell_type": "code",
   "execution_count": 21,
   "id": "77a726df-ea4b-4d89-8e64-84cfde3826d2",
   "metadata": {},
   "outputs": [
    {
     "name": "stdout",
     "output_type": "stream",
     "text": [
      "['mom', 'dad', 'bak', 'sir', 'ria', 'sah', 'cho', 5, 'immu', 'immu', 'immu']\n"
     ]
    }
   ],
   "source": [
    "family.append('immu')\n",
    "print(family)"
   ]
  },
  {
   "cell_type": "code",
   "execution_count": 5,
   "id": "771f3c9f-5d5c-420f-8325-c538822ed25c",
   "metadata": {},
   "outputs": [
    {
     "name": "stdout",
     "output_type": "stream",
     "text": [
      "['mom', 'dad', 'bak', 'sir', 'ria', 'sah', 'cho', 'reh']\n"
     ]
    }
   ],
   "source": [
    "family.append('reh')\n",
    "print(family)"
   ]
  },
  {
   "cell_type": "code",
   "execution_count": 7,
   "id": "148f57d8-34f9-4f1c-9978-2770d09d2513",
   "metadata": {},
   "outputs": [
    {
     "name": "stdout",
     "output_type": "stream",
     "text": [
      "['mom', 'dad', 'san', 'bak', 'sir', 'ria', 'sah', 'cho', 'reh']\n"
     ]
    }
   ],
   "source": [
    "family.insert(2, 'san')\n",
    "print(family)\n"
   ]
  },
  {
   "cell_type": "code",
   "execution_count": 9,
   "id": "8e610868-5eb4-480f-9108-484dea8c24e3",
   "metadata": {},
   "outputs": [
    {
     "name": "stdout",
     "output_type": "stream",
     "text": [
      "['mom', 'dad', 'bak', 'sir', 'ria', 'sah', 'cho', 'reh']\n"
     ]
    }
   ],
   "source": [
    "family.pop(2)\n",
    "print(family)"
   ]
  },
  {
   "cell_type": "code",
   "execution_count": 13,
   "id": "e084f60b-19ce-46b9-bcdb-26b21968a0c2",
   "metadata": {},
   "outputs": [
    {
     "name": "stdout",
     "output_type": "stream",
     "text": [
      "reh\n"
     ]
    }
   ],
   "source": [
    "x = family.pop()\n",
    "print(x)"
   ]
  },
  {
   "cell_type": "code",
   "execution_count": 17,
   "id": "d9920b42-ccf4-4278-b95c-a59b991abf76",
   "metadata": {},
   "outputs": [
    {
     "name": "stdout",
     "output_type": "stream",
     "text": [
      "['bak', 'dad', 'mom', 'ria', 'sah', 'sir']\n"
     ]
    }
   ],
   "source": [
    "print(sorted(family))\n",
    "      "
   ]
  },
  {
   "cell_type": "code",
   "execution_count": 21,
   "id": "ee3e0839-9855-47ad-ac19-4004fc0aa997",
   "metadata": {},
   "outputs": [
    {
     "name": "stdout",
     "output_type": "stream",
     "text": [
      "['bak', 'dad', 'mom', 'ria', 'sah', 'sir']\n"
     ]
    }
   ],
   "source": [
    "family.sort()\n",
    "print(family)"
   ]
  },
  {
   "cell_type": "code",
   "execution_count": 23,
   "id": "59cfeaf8-5cf3-4005-804e-282728fb9e75",
   "metadata": {},
   "outputs": [
    {
     "name": "stdout",
     "output_type": "stream",
     "text": [
      "['sir', 'sah', 'ria', 'mom', 'dad', 'bak']\n"
     ]
    }
   ],
   "source": [
    "family.reverse()\n",
    "print(family)"
   ]
  },
  {
   "cell_type": "code",
   "execution_count": 50,
   "id": "44224b35-15b9-4d34-9de6-0363fe7b0b1d",
   "metadata": {},
   "outputs": [
    {
     "name": "stdout",
     "output_type": "stream",
     "text": [
      "do a good job, mom\n",
      "\n",
      "do a good job, dad\n",
      "\n",
      "do a good job, bak\n",
      "\n",
      "do a good job, sir\n",
      "\n",
      "do a good job, ria\n",
      "\n",
      "do a good job, sah\n",
      "\n",
      "do a good job, cho\n",
      "\n"
     ]
    }
   ],
   "source": [
    "for x in family:\n",
    "    print(f\"do a good job, {x}\\n\")"
   ]
  },
  {
   "cell_type": "raw",
   "id": "6bc335a9-0395-4782-b78e-335b6f11d7bb",
   "metadata": {},
   "source": [
    "print(family.lstrip())\n"
   ]
  },
  {
   "cell_type": "code",
   "execution_count": 52,
   "id": "af66d05e-b1b0-4641-bd56-925531f12082",
   "metadata": {},
   "outputs": [
    {
     "ename": "AttributeError",
     "evalue": "'list' object has no attribute 'rstrip'",
     "output_type": "error",
     "traceback": [
      "\u001b[1;31m---------------------------------------------------------------------------\u001b[0m",
      "\u001b[1;31mAttributeError\u001b[0m                            Traceback (most recent call last)",
      "Cell \u001b[1;32mIn[52], line 1\u001b[0m\n\u001b[1;32m----> 1\u001b[0m \u001b[38;5;28mprint\u001b[39m(family\u001b[38;5;241m.\u001b[39mrstrip())\n",
      "\u001b[1;31mAttributeError\u001b[0m: 'list' object has no attribute 'rstrip'"
     ]
    }
   ],
   "source": [
    "print(family.rstrip())"
   ]
  },
  {
   "cell_type": "code",
   "execution_count": 54,
   "id": "b7f84699-259c-4b69-a504-8f329d5cf66e",
   "metadata": {},
   "outputs": [
    {
     "name": "stdout",
     "output_type": "stream",
     "text": [
      "hello\n"
     ]
    }
   ],
   "source": [
    "x =   \"hello\"\n",
    "print(x.lstrip())"
   ]
  },
  {
   "cell_type": "code",
   "execution_count": 56,
   "id": "8a5d3f4e-fee7-4d4a-97c8-c34618c110c3",
   "metadata": {},
   "outputs": [
    {
     "name": "stdout",
     "output_type": "stream",
     "text": [
      "hello\n"
     ]
    }
   ],
   "source": [
    "print(x.strip())"
   ]
  },
  {
   "cell_type": "code",
   "execution_count": 58,
   "id": "a817df56-00c2-4d3d-9a47-3af1901bf3fe",
   "metadata": {},
   "outputs": [
    {
     "name": "stdout",
     "output_type": "stream",
     "text": [
      "['bak', 'sir']\n"
     ]
    }
   ],
   "source": [
    "print(family[2:4])"
   ]
  },
  {
   "cell_type": "code",
   "execution_count": 60,
   "id": "3e2e1d2f-883e-4bc0-a226-177d760d0edf",
   "metadata": {},
   "outputs": [
    {
     "name": "stdout",
     "output_type": "stream",
     "text": [
      "['dad', 'sir', 'sah']\n"
     ]
    }
   ],
   "source": [
    "print(family[1:6:2])"
   ]
  },
  {
   "cell_type": "code",
   "execution_count": null,
   "id": "0072a180-dd22-4567-a7ea-b27ac5ba84e1",
   "metadata": {},
   "outputs": [],
   "source": []
  }
 ],
 "metadata": {
  "kernelspec": {
   "display_name": "Python 3 (ipykernel)",
   "language": "python",
   "name": "python3"
  },
  "language_info": {
   "codemirror_mode": {
    "name": "ipython",
    "version": 3
   },
   "file_extension": ".py",
   "mimetype": "text/x-python",
   "name": "python",
   "nbconvert_exporter": "python",
   "pygments_lexer": "ipython3",
   "version": "3.12.4"
  }
 },
 "nbformat": 4,
 "nbformat_minor": 5
}
